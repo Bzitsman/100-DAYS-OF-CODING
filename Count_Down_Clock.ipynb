{
  "nbformat": 4,
  "nbformat_minor": 0,
  "metadata": {
    "colab": {
      "provenance": [],
      "authorship_tag": "ABX9TyPgjb99cDtlKOO/H3h13aJp",
      "include_colab_link": true
    },
    "kernelspec": {
      "name": "python3",
      "display_name": "Python 3"
    },
    "language_info": {
      "name": "python"
    }
  },
  "cells": [
    {
      "cell_type": "markdown",
      "metadata": {
        "id": "view-in-github",
        "colab_type": "text"
      },
      "source": [
        "<a href=\"https://colab.research.google.com/github/Bzitsman/100-DAYS-OF-CODING/blob/main/Count_Down_Clock.ipynb\" target=\"_parent\"><img src=\"https://colab.research.google.com/assets/colab-badge.svg\" alt=\"Open In Colab\"/></a>"
      ]
    },
    {
      "cell_type": "markdown",
      "source": [
        "For the purposes of this task, pretend that 1 second = 1 minute, so the above cell would represent a 3-minute countdown.\n",
        "\n",
        "The movie theater has implemented online reservations through their website. From the seat selection page, customers have a limited amount of time to make their selection. You must write a function that counts down and reminds the user that they have limited time to make a selection. When time expires, it must print a timeout message.\n",
        "\n",
        "Instantiate a variable called mins and assign it a starting value of 10.\n",
        "\n",
        "Write a while loop that uses the sleep() function and decrements mins from 10 minutes. For each minute:\n",
        "\n",
        "Print how many minutes remain as an integer.\n",
        "BUT:\n",
        "If there are 5 minutes left, print Place your reservation soon! 5 minutes remaining. instead of the integer.\n",
        "If there are 2 minutes left, print Don't lose your seats! 2 minutes remaining. instead of the integer.\n",
        "When zero minutes remain, print User timed out. instead of the integer."
      ],
      "metadata": {
        "id": "i-XrlX7xtcCs"
      }
    },
    {
      "cell_type": "code",
      "execution_count": 2,
      "metadata": {
        "colab": {
          "base_uri": "https://localhost:8080/"
        },
        "id": "h0aLyLsFtYUs",
        "outputId": "f7e0dff9-0d29-49d2-92b2-076d0b945c20"
      },
      "outputs": [
        {
          "output_type": "stream",
          "name": "stdout",
          "text": [
            "10\n",
            "9\n",
            "8\n",
            "7\n",
            "6\n",
            "Place your reservation soon! 5 minutes remaining.\n",
            "4\n",
            "3\n",
            "Don't lose your seats! 2 minutes remaining.\n",
            "1\n",
            "User timed out.\n"
          ]
        }
      ],
      "source": [
        "from time import sleep\n",
        "\n",
        "mins = 10\n",
        "while mins >= 0:\n",
        "    sleep(1)\n",
        "    if mins == 5:\n",
        "        print('Place your reservation soon! 5 minutes remaining.')\n",
        "        mins -=1\n",
        "    elif mins == 2:\n",
        "        print('Don\\'t lose your seats! 2 minutes remaining.')\n",
        "        mins -=1\n",
        "    elif mins == 0:\n",
        "        print('User timed out.')\n",
        "        mins -=1\n",
        "    else:\n",
        "        print(mins)\n",
        "        mins -=1"
      ]
    }
  ]
}