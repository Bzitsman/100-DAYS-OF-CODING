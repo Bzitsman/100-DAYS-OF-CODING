{
  "nbformat": 4,
  "nbformat_minor": 0,
  "metadata": {
    "colab": {
      "provenance": [],
      "authorship_tag": "ABX9TyMPJWzppFzB8V/yQNqFPXl3",
      "include_colab_link": true
    },
    "kernelspec": {
      "name": "python3",
      "display_name": "Python 3"
    },
    "language_info": {
      "name": "python"
    }
  },
  "cells": [
    {
      "cell_type": "markdown",
      "metadata": {
        "id": "view-in-github",
        "colab_type": "text"
      },
      "source": [
        "<a href=\"https://colab.research.google.com/github/Bzitsman/100-DAYS-OF-CODING/blob/main/Day_4_Rock_Paper_Scissors.ipynb\" target=\"_parent\"><img src=\"https://colab.research.google.com/assets/colab-badge.svg\" alt=\"Open In Colab\"/></a>"
      ]
    },
    {
      "cell_type": "code",
      "execution_count": 1,
      "metadata": {
        "colab": {
          "base_uri": "https://localhost:8080/"
        },
        "id": "TJA9Abyl57vj",
        "outputId": "f6b9b8d2-0156-4aad-834a-46a4e32fd40e"
      },
      "outputs": [
        {
          "output_type": "stream",
          "name": "stdout",
          "text": [
            "What do you choose? Type 0 for Rock, 1 for Paper or 2 for Scissors.\n",
            "1\n",
            "\n",
            "    _______\n",
            "---'   ____)____\n",
            "          ______)\n",
            "          _______)\n",
            "         _______)\n",
            "---.__________)\n",
            "\n",
            "Computer chose: \n",
            "\n",
            "    _______\n",
            "---'   ____)\n",
            "      (_____)\n",
            "      (_____)\n",
            "      (____)\n",
            "---.__(___)\n",
            "\n",
            "You win!\n"
          ]
        }
      ],
      "source": [
        "rock = '''\n",
        "    _______\n",
        "---'   ____)\n",
        "      (_____)\n",
        "      (_____)\n",
        "      (____)\n",
        "---.__(___)\n",
        "'''\n",
        "\n",
        "paper = '''\n",
        "    _______\n",
        "---'   ____)____\n",
        "          ______)\n",
        "          _______)\n",
        "         _______)\n",
        "---.__________)\n",
        "'''\n",
        "\n",
        "scissors = '''\n",
        "    _______\n",
        "---'   ____)____\n",
        "          ______)\n",
        "       __________)\n",
        "      (____)\n",
        "---.__(___)\n",
        "'''\n",
        "\n",
        "\n",
        "import random\n",
        "games_images = [rock, paper, scissors]\n",
        "\n",
        "user_choice = int(input(\"What do you choose? Type 0 for Rock, 1 for Paper or 2 for Scissors.\\n\"))\n",
        "\n",
        "if user_choice >= 3 or user_choice < 0:\n",
        "  print(\"You type an invalid number, you lose\")\n",
        "else:\n",
        "  print(games_images[user_choice])\n",
        "  \n",
        "  computer_choice = random.randint(0, 2)\n",
        "  print(f\"Computer chose: \")\n",
        "  print(games_images[computer_choice])\n",
        "  \n",
        "  \n",
        "  if user_choice == 0 and computer_choice == 2:\n",
        "    print(\"You win!\")\n",
        "  elif computer_choice == 0 and user_choice == 2:\n",
        "    print(\"You lose\")\n",
        "  elif computer_choice > user_choice:\n",
        "    print(\"You lose\")\n",
        "  elif user_choice > computer_choice:\n",
        "    print(\"You win!\")\n",
        "  elif computer_choice == user_choice:\n",
        "    print(\"It's a draw\")"
      ]
    }
  ]
}