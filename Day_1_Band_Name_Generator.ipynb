{
  "nbformat": 4,
  "nbformat_minor": 0,
  "metadata": {
    "colab": {
      "provenance": [],
      "authorship_tag": "ABX9TyMLcgFE6FZkxW8cEAJj/24x",
      "include_colab_link": true
    },
    "kernelspec": {
      "name": "python3",
      "display_name": "Python 3"
    },
    "language_info": {
      "name": "python"
    }
  },
  "cells": [
    {
      "cell_type": "markdown",
      "metadata": {
        "id": "view-in-github",
        "colab_type": "text"
      },
      "source": [
        "<a href=\"https://colab.research.google.com/github/Bzitsman/100-DAYS-OF-CODING/blob/main/Day_1_Band_Name_Generator.ipynb\" target=\"_parent\"><img src=\"https://colab.research.google.com/assets/colab-badge.svg\" alt=\"Open In Colab\"/></a>"
      ]
    },
    {
      "cell_type": "code",
      "execution_count": 1,
      "metadata": {
        "colab": {
          "base_uri": "https://localhost:8080/"
        },
        "id": "dJVBTWXOC1q9",
        "outputId": "3b383be0-4f08-414a-bf3a-23ea215a47ce"
      },
      "outputs": [
        {
          "output_type": "stream",
          "name": "stdout",
          "text": [
            "Welcome to the Band Name Generator\n",
            "Which city did you grow up in?\n",
            " San Diego\n",
            "What is the name of a pet?\n",
            " Charlie\n",
            "Your band name could be San Diego Charlie\n"
          ]
        }
      ],
      "source": [
        "print(\"Welcome to the Band Name Generator\")\n",
        "city = input(\"Which city did you grow up in?\\n \")\n",
        "pet_name = input(\"What is the name of a pet?\\n \" )\n",
        "print(\"Your band name could be \" + city + \" \" + pet_name)"
      ]
    }
  ]
}